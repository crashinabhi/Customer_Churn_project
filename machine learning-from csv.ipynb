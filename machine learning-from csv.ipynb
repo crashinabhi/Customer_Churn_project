{
 "cells": [
  {
   "cell_type": "code",
   "execution_count": 73,
   "metadata": {},
   "outputs": [],
   "source": [
    "import numpy as np \n",
    "import pandas as pd  \n",
    "import matplotlib.pyplot as plt\n",
    "from sklearn.datasets import make_blobs\n",
    "from sklearn.model_selection import train_test_split\n",
    "from sklearn.preprocessing import StandardScaler, MinMaxScaler\n",
    "from sklearn.cluster import KMeans\n",
    "import hvplot.pandas\n",
    "import plotly.express as px"
   ]
  },
  {
   "cell_type": "code",
   "execution_count": 54,
   "metadata": {},
   "outputs": [
    {
     "data": {
      "text/plain": [
       "(100000, 21)"
      ]
     },
     "execution_count": 54,
     "metadata": {},
     "output_type": "execute_result"
    }
   ],
   "source": [
    "#Import Csv\n",
    "file_path= \"Customer_Churn_database.csv\"\n",
    "customer_churn_df=pd.read_csv(file_path)\n",
    "customer_churn_small=customer_churn_df.sample(100000)\n",
    "customer_churn_small.shape"
   ]
  },
  {
   "cell_type": "code",
   "execution_count": 82,
   "metadata": {},
   "outputs": [],
   "source": [
    "customer_churn_small.to_csv('customer_churn_small.csv',index=False)"
   ]
  },
  {
   "cell_type": "code",
   "execution_count": 102,
   "metadata": {},
   "outputs": [
    {
     "data": {
      "text/html": [
       "<div>\n",
       "<style scoped>\n",
       "    .dataframe tbody tr th:only-of-type {\n",
       "        vertical-align: middle;\n",
       "    }\n",
       "\n",
       "    .dataframe tbody tr th {\n",
       "        vertical-align: top;\n",
       "    }\n",
       "\n",
       "    .dataframe thead th {\n",
       "        text-align: right;\n",
       "    }\n",
       "</style>\n",
       "<table border=\"1\" class=\"dataframe\">\n",
       "  <thead>\n",
       "    <tr style=\"text-align: right;\">\n",
       "      <th></th>\n",
       "      <th>city</th>\n",
       "      <th>registered_via</th>\n",
       "      <th>registered_on</th>\n",
       "      <th>date_streamed</th>\n",
       "      <th>less_than_25</th>\n",
       "      <th>less_than_50</th>\n",
       "      <th>less_than_75</th>\n",
       "      <th>less_than_985</th>\n",
       "      <th>above_985</th>\n",
       "      <th>unique_songs</th>\n",
       "      <th>...</th>\n",
       "      <th>payment_plan_days</th>\n",
       "      <th>plan_list_price</th>\n",
       "      <th>actual_amount_paid</th>\n",
       "      <th>auto_renewed</th>\n",
       "      <th>transaction_date</th>\n",
       "      <th>membership_expire_date</th>\n",
       "      <th>cancelled</th>\n",
       "      <th>is_churn</th>\n",
       "      <th>gender_female</th>\n",
       "      <th>gender_male</th>\n",
       "    </tr>\n",
       "  </thead>\n",
       "  <tbody>\n",
       "    <tr>\n",
       "      <th>333572</th>\n",
       "      <td>13</td>\n",
       "      <td>9</td>\n",
       "      <td>20061213</td>\n",
       "      <td>20170311</td>\n",
       "      <td>13</td>\n",
       "      <td>4</td>\n",
       "      <td>3</td>\n",
       "      <td>1</td>\n",
       "      <td>26</td>\n",
       "      <td>20</td>\n",
       "      <td>...</td>\n",
       "      <td>30</td>\n",
       "      <td>149</td>\n",
       "      <td>149</td>\n",
       "      <td>1</td>\n",
       "      <td>20170228</td>\n",
       "      <td>20170429</td>\n",
       "      <td>0</td>\n",
       "      <td>0</td>\n",
       "      <td>1</td>\n",
       "      <td>0</td>\n",
       "    </tr>\n",
       "    <tr>\n",
       "      <th>4327570</th>\n",
       "      <td>22</td>\n",
       "      <td>3</td>\n",
       "      <td>20131017</td>\n",
       "      <td>20170317</td>\n",
       "      <td>13</td>\n",
       "      <td>2</td>\n",
       "      <td>0</td>\n",
       "      <td>3</td>\n",
       "      <td>22</td>\n",
       "      <td>31</td>\n",
       "      <td>...</td>\n",
       "      <td>30</td>\n",
       "      <td>149</td>\n",
       "      <td>149</td>\n",
       "      <td>0</td>\n",
       "      <td>20170322</td>\n",
       "      <td>20170421</td>\n",
       "      <td>0</td>\n",
       "      <td>0</td>\n",
       "      <td>0</td>\n",
       "      <td>1</td>\n",
       "    </tr>\n",
       "    <tr>\n",
       "      <th>8058061</th>\n",
       "      <td>10</td>\n",
       "      <td>3</td>\n",
       "      <td>20120723</td>\n",
       "      <td>20170322</td>\n",
       "      <td>9</td>\n",
       "      <td>2</td>\n",
       "      <td>4</td>\n",
       "      <td>1</td>\n",
       "      <td>8</td>\n",
       "      <td>23</td>\n",
       "      <td>...</td>\n",
       "      <td>30</td>\n",
       "      <td>149</td>\n",
       "      <td>149</td>\n",
       "      <td>1</td>\n",
       "      <td>20170331</td>\n",
       "      <td>20170530</td>\n",
       "      <td>0</td>\n",
       "      <td>0</td>\n",
       "      <td>1</td>\n",
       "      <td>0</td>\n",
       "    </tr>\n",
       "    <tr>\n",
       "      <th>5975802</th>\n",
       "      <td>13</td>\n",
       "      <td>9</td>\n",
       "      <td>20100522</td>\n",
       "      <td>20170331</td>\n",
       "      <td>8</td>\n",
       "      <td>5</td>\n",
       "      <td>1</td>\n",
       "      <td>3</td>\n",
       "      <td>14</td>\n",
       "      <td>24</td>\n",
       "      <td>...</td>\n",
       "      <td>30</td>\n",
       "      <td>149</td>\n",
       "      <td>149</td>\n",
       "      <td>1</td>\n",
       "      <td>20170331</td>\n",
       "      <td>20170430</td>\n",
       "      <td>0</td>\n",
       "      <td>0</td>\n",
       "      <td>1</td>\n",
       "      <td>0</td>\n",
       "    </tr>\n",
       "    <tr>\n",
       "      <th>5918923</th>\n",
       "      <td>6</td>\n",
       "      <td>7</td>\n",
       "      <td>20150906</td>\n",
       "      <td>20170319</td>\n",
       "      <td>0</td>\n",
       "      <td>0</td>\n",
       "      <td>0</td>\n",
       "      <td>2</td>\n",
       "      <td>1</td>\n",
       "      <td>2</td>\n",
       "      <td>...</td>\n",
       "      <td>30</td>\n",
       "      <td>99</td>\n",
       "      <td>99</td>\n",
       "      <td>1</td>\n",
       "      <td>20170306</td>\n",
       "      <td>20170406</td>\n",
       "      <td>0</td>\n",
       "      <td>0</td>\n",
       "      <td>0</td>\n",
       "      <td>1</td>\n",
       "    </tr>\n",
       "    <tr>\n",
       "      <th>...</th>\n",
       "      <td>...</td>\n",
       "      <td>...</td>\n",
       "      <td>...</td>\n",
       "      <td>...</td>\n",
       "      <td>...</td>\n",
       "      <td>...</td>\n",
       "      <td>...</td>\n",
       "      <td>...</td>\n",
       "      <td>...</td>\n",
       "      <td>...</td>\n",
       "      <td>...</td>\n",
       "      <td>...</td>\n",
       "      <td>...</td>\n",
       "      <td>...</td>\n",
       "      <td>...</td>\n",
       "      <td>...</td>\n",
       "      <td>...</td>\n",
       "      <td>...</td>\n",
       "      <td>...</td>\n",
       "      <td>...</td>\n",
       "      <td>...</td>\n",
       "    </tr>\n",
       "    <tr>\n",
       "      <th>1261580</th>\n",
       "      <td>4</td>\n",
       "      <td>9</td>\n",
       "      <td>20140529</td>\n",
       "      <td>20170317</td>\n",
       "      <td>211</td>\n",
       "      <td>3</td>\n",
       "      <td>5</td>\n",
       "      <td>5</td>\n",
       "      <td>59</td>\n",
       "      <td>229</td>\n",
       "      <td>...</td>\n",
       "      <td>30</td>\n",
       "      <td>180</td>\n",
       "      <td>180</td>\n",
       "      <td>1</td>\n",
       "      <td>20170310</td>\n",
       "      <td>20170409</td>\n",
       "      <td>0</td>\n",
       "      <td>0</td>\n",
       "      <td>0</td>\n",
       "      <td>1</td>\n",
       "    </tr>\n",
       "    <tr>\n",
       "      <th>6273912</th>\n",
       "      <td>13</td>\n",
       "      <td>7</td>\n",
       "      <td>20130805</td>\n",
       "      <td>20170308</td>\n",
       "      <td>2</td>\n",
       "      <td>0</td>\n",
       "      <td>0</td>\n",
       "      <td>0</td>\n",
       "      <td>25</td>\n",
       "      <td>21</td>\n",
       "      <td>...</td>\n",
       "      <td>30</td>\n",
       "      <td>99</td>\n",
       "      <td>99</td>\n",
       "      <td>1</td>\n",
       "      <td>20161219</td>\n",
       "      <td>20170714</td>\n",
       "      <td>0</td>\n",
       "      <td>1</td>\n",
       "      <td>0</td>\n",
       "      <td>1</td>\n",
       "    </tr>\n",
       "    <tr>\n",
       "      <th>2072659</th>\n",
       "      <td>5</td>\n",
       "      <td>9</td>\n",
       "      <td>20090911</td>\n",
       "      <td>20170324</td>\n",
       "      <td>3</td>\n",
       "      <td>0</td>\n",
       "      <td>2</td>\n",
       "      <td>0</td>\n",
       "      <td>6</td>\n",
       "      <td>10</td>\n",
       "      <td>...</td>\n",
       "      <td>30</td>\n",
       "      <td>180</td>\n",
       "      <td>180</td>\n",
       "      <td>1</td>\n",
       "      <td>20170315</td>\n",
       "      <td>20170414</td>\n",
       "      <td>0</td>\n",
       "      <td>0</td>\n",
       "      <td>0</td>\n",
       "      <td>1</td>\n",
       "    </tr>\n",
       "    <tr>\n",
       "      <th>4449916</th>\n",
       "      <td>13</td>\n",
       "      <td>3</td>\n",
       "      <td>20140822</td>\n",
       "      <td>20170302</td>\n",
       "      <td>7</td>\n",
       "      <td>3</td>\n",
       "      <td>1</td>\n",
       "      <td>2</td>\n",
       "      <td>37</td>\n",
       "      <td>46</td>\n",
       "      <td>...</td>\n",
       "      <td>30</td>\n",
       "      <td>149</td>\n",
       "      <td>149</td>\n",
       "      <td>1</td>\n",
       "      <td>20170325</td>\n",
       "      <td>20170425</td>\n",
       "      <td>0</td>\n",
       "      <td>0</td>\n",
       "      <td>0</td>\n",
       "      <td>1</td>\n",
       "    </tr>\n",
       "    <tr>\n",
       "      <th>1185053</th>\n",
       "      <td>15</td>\n",
       "      <td>3</td>\n",
       "      <td>20120719</td>\n",
       "      <td>20170320</td>\n",
       "      <td>0</td>\n",
       "      <td>0</td>\n",
       "      <td>0</td>\n",
       "      <td>0</td>\n",
       "      <td>1</td>\n",
       "      <td>1</td>\n",
       "      <td>...</td>\n",
       "      <td>30</td>\n",
       "      <td>149</td>\n",
       "      <td>149</td>\n",
       "      <td>1</td>\n",
       "      <td>20170315</td>\n",
       "      <td>20170416</td>\n",
       "      <td>1</td>\n",
       "      <td>1</td>\n",
       "      <td>1</td>\n",
       "      <td>0</td>\n",
       "    </tr>\n",
       "  </tbody>\n",
       "</table>\n",
       "<p>100000 rows × 22 columns</p>\n",
       "</div>"
      ],
      "text/plain": [
       "         city  registered_via  registered_on  date_streamed  less_than_25  \\\n",
       "333572     13               9       20061213       20170311            13   \n",
       "4327570    22               3       20131017       20170317            13   \n",
       "8058061    10               3       20120723       20170322             9   \n",
       "5975802    13               9       20100522       20170331             8   \n",
       "5918923     6               7       20150906       20170319             0   \n",
       "...       ...             ...            ...            ...           ...   \n",
       "1261580     4               9       20140529       20170317           211   \n",
       "6273912    13               7       20130805       20170308             2   \n",
       "2072659     5               9       20090911       20170324             3   \n",
       "4449916    13               3       20140822       20170302             7   \n",
       "1185053    15               3       20120719       20170320             0   \n",
       "\n",
       "         less_than_50  less_than_75  less_than_985  above_985  unique_songs  \\\n",
       "333572              4             3              1         26            20   \n",
       "4327570             2             0              3         22            31   \n",
       "8058061             2             4              1          8            23   \n",
       "5975802             5             1              3         14            24   \n",
       "5918923             0             0              2          1             2   \n",
       "...               ...           ...            ...        ...           ...   \n",
       "1261580             3             5              5         59           229   \n",
       "6273912             0             0              0         25            21   \n",
       "2072659             0             2              0          6            10   \n",
       "4449916             3             1              2         37            46   \n",
       "1185053             0             0              0          1             1   \n",
       "\n",
       "         ...  payment_plan_days  plan_list_price  actual_amount_paid  \\\n",
       "333572   ...                 30              149                 149   \n",
       "4327570  ...                 30              149                 149   \n",
       "8058061  ...                 30              149                 149   \n",
       "5975802  ...                 30              149                 149   \n",
       "5918923  ...                 30               99                  99   \n",
       "...      ...                ...              ...                 ...   \n",
       "1261580  ...                 30              180                 180   \n",
       "6273912  ...                 30               99                  99   \n",
       "2072659  ...                 30              180                 180   \n",
       "4449916  ...                 30              149                 149   \n",
       "1185053  ...                 30              149                 149   \n",
       "\n",
       "         auto_renewed  transaction_date  membership_expire_date  cancelled  \\\n",
       "333572              1          20170228                20170429          0   \n",
       "4327570             0          20170322                20170421          0   \n",
       "8058061             1          20170331                20170530          0   \n",
       "5975802             1          20170331                20170430          0   \n",
       "5918923             1          20170306                20170406          0   \n",
       "...               ...               ...                     ...        ...   \n",
       "1261580             1          20170310                20170409          0   \n",
       "6273912             1          20161219                20170714          0   \n",
       "2072659             1          20170315                20170414          0   \n",
       "4449916             1          20170325                20170425          0   \n",
       "1185053             1          20170315                20170416          1   \n",
       "\n",
       "         is_churn  gender_female  gender_male  \n",
       "333572          0              1            0  \n",
       "4327570         0              0            1  \n",
       "8058061         0              1            0  \n",
       "5975802         0              1            0  \n",
       "5918923         0              0            1  \n",
       "...           ...            ...          ...  \n",
       "1261580         0              0            1  \n",
       "6273912         1              0            1  \n",
       "2072659         0              0            1  \n",
       "4449916         0              0            1  \n",
       "1185053         1              1            0  \n",
       "\n",
       "[100000 rows x 22 columns]"
      ]
     },
     "execution_count": 102,
     "metadata": {},
     "output_type": "execute_result"
    }
   ],
   "source": [
    "# Use get_dummies() to convert categorical variables.\n",
    "customer_churn_dummies= pd.get_dummies(customer_churn_small,columns=[\"gender\"])\n",
    "customer_churn_dummies"
   ]
  },
  {
   "cell_type": "code",
   "execution_count": 103,
   "metadata": {},
   "outputs": [
    {
     "name": "stdout",
     "output_type": "stream",
     "text": [
      "city\n",
      "registered_via\n",
      "registered_on\n",
      "date_streamed\n",
      "less_than_25\n",
      "less_than_50\n",
      "less_than_75\n",
      "less_than_985\n",
      "above_985\n",
      "unique_songs\n",
      "total_secs\n",
      "payment_method_id\n",
      "payment_plan_days\n",
      "plan_list_price\n",
      "actual_amount_paid\n",
      "auto_renewed\n",
      "transaction_date\n",
      "membership_expire_date\n",
      "cancelled\n",
      "is_churn\n",
      "gender_female\n",
      "gender_male\n"
     ]
    }
   ],
   "source": [
    "for col in customer_churn_dummies.columns:\n",
    "    print(col)"
   ]
  },
  {
   "cell_type": "code",
   "execution_count": 104,
   "metadata": {},
   "outputs": [],
   "source": [
    "#Create variables for modeling\n",
    "y=customer_churn_dummies['is_churn'].values\n",
    "X=customer_churn_dummies.drop(columns = ['is_churn'])\n",
    "\n"
   ]
  },
  {
   "cell_type": "code",
   "execution_count": 105,
   "metadata": {},
   "outputs": [],
   "source": [
    "#Standardize the data with MinMaxScaler()\n",
    "features = X.columns.values\n",
    "scaler = MinMaxScaler(feature_range = (0,1))\n",
    "scaler.fit(X)\n",
    "X = pd.DataFrame(scaler.transform(X))\n",
    "X.columns = features"
   ]
  },
  {
   "cell_type": "code",
   "execution_count": 106,
   "metadata": {},
   "outputs": [],
   "source": [
    "#Create Train & dataset\n",
    "from sklearn.model_selection import train_test_split\n",
    "X_train, X_test, y_train, y_test = train_test_split(X, y, test_size=0.3, random_state=101)"
   ]
  },
  {
   "cell_type": "code",
   "execution_count": 107,
   "metadata": {},
   "outputs": [
    {
     "name": "stderr",
     "output_type": "stream",
     "text": [
      "/Users/carolinamedina/opt/anaconda3/envs/PythonData/lib/python3.7/site-packages/sklearn/linear_model/_logistic.py:765: ConvergenceWarning:\n",
      "\n",
      "lbfgs failed to converge (status=1):\n",
      "STOP: TOTAL NO. of ITERATIONS REACHED LIMIT.\n",
      "\n",
      "Increase the number of iterations (max_iter) or scale the data as shown in:\n",
      "    https://scikit-learn.org/stable/modules/preprocessing.html\n",
      "Please also refer to the documentation for alternative solver options:\n",
      "    https://scikit-learn.org/stable/modules/linear_model.html#logistic-regression\n",
      "\n"
     ]
    }
   ],
   "source": [
    "# Running logistic regression model\n",
    "from sklearn.linear_model import LogisticRegression\n",
    "model = LogisticRegression()\n",
    "result = model.fit(X_train, y_train)"
   ]
  },
  {
   "cell_type": "code",
   "execution_count": 108,
   "metadata": {},
   "outputs": [
    {
     "name": "stdout",
     "output_type": "stream",
     "text": [
      "0.9190333333333334\n"
     ]
    }
   ],
   "source": [
    "from sklearn import metrics\n",
    "prediction_test = model.predict(X_test)\n",
    "# Print the prediction accuracy\n",
    "print (metrics.accuracy_score(y_test, prediction_test))"
   ]
  },
  {
   "cell_type": "code",
   "execution_count": 109,
   "metadata": {},
   "outputs": [
    {
     "name": "stdout",
     "output_type": "stream",
     "text": [
      "AxesSubplot(0.125,0.125;0.775x0.755)\n"
     ]
    },
    {
     "data": {
      "image/png": "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\n",
      "text/plain": [
       "<Figure size 432x288 with 1 Axes>"
      ]
     },
     "metadata": {
      "needs_background": "light"
     },
     "output_type": "display_data"
    }
   ],
   "source": [
    "# Understand the weights of all the variables\n",
    "weights = pd.Series(model.coef_[0],\n",
    "                 index=X.columns.values)\n",
    "print (weights.sort_values(ascending = False).plot(kind='bar'))"
   ]
  },
  {
   "cell_type": "code",
   "execution_count": 113,
   "metadata": {},
   "outputs": [
    {
     "name": "stdout",
     "output_type": "stream",
     "text": [
      "AxesSubplot(0.125,0.125;0.775x0.755)\n"
     ]
    },
    {
     "data": {
      "image/png": "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\n",
      "text/plain": [
       "<Figure size 432x288 with 1 Axes>"
      ]
     },
     "metadata": {
      "needs_background": "light"
     },
     "output_type": "display_data"
    }
   ],
   "source": [
    "#Positive realtions of weight ( Increasing the probability of Churn)\n",
    "weights = pd.Series(model.coef_[0],\n",
    "                 index=X.columns.values)\n",
    "print (weights.sort_values(ascending = False)[:11].plot(kind='bar'))"
   ]
  },
  {
   "cell_type": "code",
   "execution_count": 115,
   "metadata": {},
   "outputs": [
    {
     "name": "stdout",
     "output_type": "stream",
     "text": [
      "AxesSubplot(0.125,0.125;0.775x0.755)\n"
     ]
    },
    {
     "data": {
      "image/png": "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\n",
      "text/plain": [
       "<Figure size 432x288 with 1 Axes>"
      ]
     },
     "metadata": {
      "needs_background": "light"
     },
     "output_type": "display_data"
    }
   ],
   "source": [
    "#Negative realtions of weight ( Decreasing the probability of Churn)\n",
    "weights = pd.Series(model.coef_[0],\n",
    "                 index=X.columns.values)\n",
    "print (weights.sort_values(ascending = False)[-12:].plot(kind='bar'))"
   ]
  },
  {
   "cell_type": "code",
   "execution_count": null,
   "metadata": {},
   "outputs": [],
   "source": []
  }
 ],
 "metadata": {
  "kernelspec": {
   "display_name": "Python 3",
   "language": "python",
   "name": "python3"
  },
  "language_info": {
   "codemirror_mode": {
    "name": "ipython",
    "version": 3
   },
   "file_extension": ".py",
   "mimetype": "text/x-python",
   "name": "python",
   "nbconvert_exporter": "python",
   "pygments_lexer": "ipython3",
  }
 },
 "nbformat": 4,
 "nbformat_minor": 4
}
